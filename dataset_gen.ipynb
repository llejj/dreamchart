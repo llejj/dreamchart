{
 "cells": [
  {
   "cell_type": "code",
   "execution_count": 1,
   "id": "0f6ba526-5710-4779-815e-a0e46aa8ca46",
   "metadata": {},
   "outputs": [
    {
     "ename": "ModuleNotFoundError",
     "evalue": "No module named 'openai'",
     "output_type": "error",
     "traceback": [
      "\u001b[0;31m---------------------------------------------------------------------------\u001b[0m",
      "\u001b[0;31mModuleNotFoundError\u001b[0m                       Traceback (most recent call last)",
      "Cell \u001b[0;32mIn[1], line 1\u001b[0m\n\u001b[0;32m----> 1\u001b[0m \u001b[38;5;28;01mimport\u001b[39;00m\u001b[38;5;250m \u001b[39m\u001b[38;5;21;01mopenai\u001b[39;00m\n\u001b[1;32m      2\u001b[0m \u001b[38;5;28;01mimport\u001b[39;00m\u001b[38;5;250m \u001b[39m\u001b[38;5;21;01mos\u001b[39;00m\n\u001b[1;32m      3\u001b[0m \u001b[38;5;28;01mfrom\u001b[39;00m\u001b[38;5;250m \u001b[39m\u001b[38;5;21;01mdotenv\u001b[39;00m\u001b[38;5;250m \u001b[39m\u001b[38;5;28;01mimport\u001b[39;00m load_dotenv\n",
      "\u001b[0;31mModuleNotFoundError\u001b[0m: No module named 'openai'"
     ]
    }
   ],
   "source": [
    "import openai\n",
    "import os\n",
    "from dotenv import load_dotenv\n",
    "\n",
    "load_dotenv()\n",
    "api_key = os.getenv(\"OPENAI_API_KEY\")\n",
    "openai.api_key = api_key"
   ]
  },
  {
   "cell_type": "code",
   "execution_count": null,
   "id": "c738d6d8-4962-46ea-b3bd-1e0034483f46",
   "metadata": {},
   "outputs": [],
   "source": [
    "ideation = \"Lundgard and Satyanarayan (2022) identifies four levels of semantic content: L1 content enumerates aspects of the chart’s construction (e.g., axis ranges); L2 content reports summary statistics and relations (e.g., extrema); L3 content synthesizes perceptual and cognitive phenomena (e.g., complex trends); and, L4 content describes domain-specific insights (e.g., sociopolitical context).\\n\\nExample: [1] This is a scatter plot entitled “Born in 2016: Life Expectancy Gap by Gender and Income” that plots Women Life Expectancy at Birth (Years) by Men Life Expectancy at Birth (Years). The Women Life Expectancy at Birth is plotted on the vertical y-axis from 40 to 90 years. The Men Life Expectancy at Birth is plotted on the horizontal x-axis from 40 to 90 years. High Income Countries are plotted in dark green. Low Income Countries are plotted in light green. A 45 degree line from the origin represents Equal Life Expectancy. [2] For low in- come countries, the average life expectancy is 60 years for men and 65 years for women. For high income countries, the average life expectancy is 77 years for men and 82 years for women. [3] Overall, women have a slightly higher life expectancy than men. Women live around 5 to 10 years longer than men. The low income countries are more scattered than the high income countries. There is a visible gap between high and low income countries, indicated by the Income-Age Divide line. [4] People living in low-income countries tend to have a lower life expectancy than the people living in high-income countries, likely due to many societal factors, including access to healthcare, food, other resources, and overall quality of life. People who live in lower income countries are more likely to\\n\\nCome up with a scenario where a chart might be displayed, and generate its four levels of semantic content captions.\"\n",
    "generation = \"Carefully generate a vega visualization based on the description and captions. Make sure to be faithful to the description. Also use data that could plausibly be found in real-world contexts.\"\n",
    "\n",
    "def get_idea():\n",
    "    response = openai.ChatCompletion.create(\n",
    "        model=\"gpt-4o-2024-11-20\", # https://platform.openai.com/docs/models\n",
    "        messages=[\n",
    "            {\"role\": \"system\", \"content\": \"You are a helpful assistant.\"},\n",
    "            {\"role\": \"user\", \"content\": ideation}\n",
    "        ],\n",
    "        max_tokens=3000,  # Adjust the response length\n",
    "        temperature=0.7  # Adjust creativity level\n",
    "    )\n",
    "    return response['choices'][0]['message']['content']\n",
    "\n",
    "idea = get_idea()"
   ]
  }
 ],
 "metadata": {
  "kernelspec": {
   "display_name": "Python (.dreamchart)",
   "language": "python",
   "name": ".dreamchart"
  },
  "language_info": {
   "codemirror_mode": {
    "name": "ipython",
    "version": 3
   },
   "file_extension": ".py",
   "mimetype": "text/x-python",
   "name": "python",
   "nbconvert_exporter": "python",
   "pygments_lexer": "ipython3",
   "version": "3.10.12"
  }
 },
 "nbformat": 4,
 "nbformat_minor": 5
}
